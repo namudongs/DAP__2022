{
  "nbformat": 4,
  "nbformat_minor": 0,
  "metadata": {
    "colab": {
      "provenance": []
    },
    "kernelspec": {
      "name": "python3",
      "display_name": "Python 3"
    },
    "language_info": {
      "name": "python"
    }
  },
  "cells": [
    {
      "cell_type": "code",
      "execution_count": 1,
      "metadata": {
        "colab": {
          "base_uri": "https://localhost:8080/"
        },
        "id": "exM-sXlG2sA4",
        "outputId": "db3ae746-0189-465a-acf6-966fbef13232"
      },
      "outputs": [
        {
          "output_type": "stream",
          "name": "stdout",
          "text": [
            "numpy version : 1.21.6\n"
          ]
        }
      ],
      "source": [
        "import numpy as np\n",
        "print (f'numpy version : {np.__version__}')"
      ]
    }
  ]
}